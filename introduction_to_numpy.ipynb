{
  "nbformat": 4,
  "nbformat_minor": 0,
  "metadata": {
    "colab": {
      "name": "introduction to numpy.ipynb",
      "provenance": [],
      "collapsed_sections": [],
      "authorship_tag": "ABX9TyPlb0iDigrRQxsM+KhJGpCb",
      "include_colab_link": true
    },
    "kernelspec": {
      "name": "python3",
      "display_name": "Python 3"
    },
    "language_info": {
      "name": "python"
    }
  },
  "cells": [
    {
      "cell_type": "markdown",
      "metadata": {
        "id": "view-in-github",
        "colab_type": "text"
      },
      "source": [
        "<a href=\"https://colab.research.google.com/github/lotusist/Basics-of-Mathmatics-and-Statistics/blob/main/introduction_to_numpy.ipynb\" target=\"_parent\"><img src=\"https://colab.research.google.com/assets/colab-badge.svg\" alt=\"Open In Colab\"/></a>"
      ]
    },
    {
      "cell_type": "markdown",
      "source": [
        "# Numpy Basics"
      ],
      "metadata": {
        "id": "2mggpyy68Yvr"
      }
    },
    {
      "cell_type": "code",
      "execution_count": null,
      "metadata": {
        "id": "8lPBwiJt7ubW"
      },
      "outputs": [],
      "source": [
        "import numpy as np"
      ]
    },
    {
      "cell_type": "markdown",
      "source": [
        "#### Array를 활용한 행렬 만들기"
      ],
      "metadata": {
        "id": "GmUDnsS59NOn"
      }
    },
    {
      "cell_type": "code",
      "source": [
        "x = np.array([[1,2,3,4,5], [1,2,3,4,5]])"
      ],
      "metadata": {
        "id": "Bb_lvKk77zBF"
      },
      "execution_count": null,
      "outputs": []
    },
    {
      "cell_type": "code",
      "source": [
        "x"
      ],
      "metadata": {
        "colab": {
          "base_uri": "https://localhost:8080/"
        },
        "id": "lnowrhQ18loJ",
        "outputId": "1abc0c03-be4c-4468-b7f9-c58b1bc5b680"
      },
      "execution_count": null,
      "outputs": [
        {
          "output_type": "execute_result",
          "data": {
            "text/plain": [
              "array([[1, 2, 3, 4, 5],\n",
              "       [1, 2, 3, 4, 5]])"
            ]
          },
          "metadata": {},
          "execution_count": 5
        }
      ]
    },
    {
      "cell_type": "code",
      "source": [
        "x.shape"
      ],
      "metadata": {
        "colab": {
          "base_uri": "https://localhost:8080/"
        },
        "id": "doVjEpMZ8sNb",
        "outputId": "9e6e6c1e-2ea0-4b16-eb9b-afbae623c6a6"
      },
      "execution_count": null,
      "outputs": [
        {
          "output_type": "execute_result",
          "data": {
            "text/plain": [
              "(2, 5)"
            ]
          },
          "metadata": {},
          "execution_count": 6
        }
      ]
    },
    {
      "cell_type": "code",
      "source": [
        "type(x)"
      ],
      "metadata": {
        "colab": {
          "base_uri": "https://localhost:8080/"
        },
        "id": "-ulL6KR48t6u",
        "outputId": "207ee373-1e25-4834-dbc0-bb7f859e1db0"
      },
      "execution_count": null,
      "outputs": [
        {
          "output_type": "execute_result",
          "data": {
            "text/plain": [
              "numpy.ndarray"
            ]
          },
          "metadata": {},
          "execution_count": 7
        }
      ]
    },
    {
      "cell_type": "code",
      "source": [
        "X = np.arange(20)"
      ],
      "metadata": {
        "id": "xAjMxDGc8wAT"
      },
      "execution_count": null,
      "outputs": []
    },
    {
      "cell_type": "code",
      "source": [
        "X"
      ],
      "metadata": {
        "colab": {
          "base_uri": "https://localhost:8080/"
        },
        "id": "iIytOwSM8y1R",
        "outputId": "e1e55980-58d8-4502-854b-9c079da9459d"
      },
      "execution_count": null,
      "outputs": [
        {
          "output_type": "execute_result",
          "data": {
            "text/plain": [
              "array([ 0,  1,  2,  3,  4,  5,  6,  7,  8,  9, 10, 11, 12, 13, 14, 15, 16,\n",
              "       17, 18, 19])"
            ]
          },
          "metadata": {},
          "execution_count": 10
        }
      ]
    },
    {
      "cell_type": "code",
      "source": [
        "X[0]"
      ],
      "metadata": {
        "colab": {
          "base_uri": "https://localhost:8080/"
        },
        "id": "Y3_76lF382AC",
        "outputId": "d165e9fc-9402-4c48-8356-ca6ae01e5589"
      },
      "execution_count": null,
      "outputs": [
        {
          "output_type": "execute_result",
          "data": {
            "text/plain": [
              "0"
            ]
          },
          "metadata": {},
          "execution_count": 11
        }
      ]
    },
    {
      "cell_type": "code",
      "source": [
        "X[0] = 20"
      ],
      "metadata": {
        "id": "myPjon1u859U"
      },
      "execution_count": null,
      "outputs": []
    },
    {
      "cell_type": "code",
      "source": [
        "X"
      ],
      "metadata": {
        "colab": {
          "base_uri": "https://localhost:8080/"
        },
        "id": "kNOb2Um58_C1",
        "outputId": "1f868ea2-4641-453f-fc27-ff180009174c"
      },
      "execution_count": null,
      "outputs": [
        {
          "output_type": "execute_result",
          "data": {
            "text/plain": [
              "array([20,  1,  2,  3,  4,  5,  6,  7,  8,  9, 10, 11, 12, 13, 14, 15, 16,\n",
              "       17, 18, 19])"
            ]
          },
          "metadata": {},
          "execution_count": 13
        }
      ]
    },
    {
      "cell_type": "markdown",
      "source": [
        "#### 0으로만 이루어진 행렬 생성"
      ],
      "metadata": {
        "id": "Q9LVJznl9IcZ"
      }
    },
    {
      "cell_type": "code",
      "source": [
        "X = np.zeros((5,5))"
      ],
      "metadata": {
        "id": "OEsipHB_8_d9"
      },
      "execution_count": null,
      "outputs": []
    },
    {
      "cell_type": "code",
      "source": [
        "X"
      ],
      "metadata": {
        "colab": {
          "base_uri": "https://localhost:8080/"
        },
        "id": "Ia2yuw4M9EJd",
        "outputId": "a3c2b129-56c0-4f9b-e048-0f5103e54734"
      },
      "execution_count": null,
      "outputs": [
        {
          "output_type": "execute_result",
          "data": {
            "text/plain": [
              "array([[0., 0., 0., 0., 0.],\n",
              "       [0., 0., 0., 0., 0.],\n",
              "       [0., 0., 0., 0., 0.],\n",
              "       [0., 0., 0., 0., 0.],\n",
              "       [0., 0., 0., 0., 0.]])"
            ]
          },
          "metadata": {},
          "execution_count": 15
        }
      ]
    },
    {
      "cell_type": "code",
      "source": [
        "X.shape"
      ],
      "metadata": {
        "colab": {
          "base_uri": "https://localhost:8080/"
        },
        "id": "AsNny-1Z9FMW",
        "outputId": "493c2cd5-557b-4ac5-9d64-37ca3a4cae6a"
      },
      "execution_count": null,
      "outputs": [
        {
          "output_type": "execute_result",
          "data": {
            "text/plain": [
              "(5, 5)"
            ]
          },
          "metadata": {},
          "execution_count": 16
        }
      ]
    },
    {
      "cell_type": "markdown",
      "source": [
        "#### 동일한 원소로 구성된 행렬 생성"
      ],
      "metadata": {
        "id": "a0tqJN_W9zrg"
      }
    },
    {
      "cell_type": "code",
      "source": [
        "X = np.full((3,3), 22)"
      ],
      "metadata": {
        "id": "7vSdI8UJ9G_1"
      },
      "execution_count": null,
      "outputs": []
    },
    {
      "cell_type": "code",
      "source": [
        "X"
      ],
      "metadata": {
        "colab": {
          "base_uri": "https://localhost:8080/"
        },
        "id": "bd0Szww69VWe",
        "outputId": "e6b0d0e2-44b9-4ae4-c191-b2a31b1ed993"
      },
      "execution_count": null,
      "outputs": [
        {
          "output_type": "execute_result",
          "data": {
            "text/plain": [
              "array([[22, 22, 22],\n",
              "       [22, 22, 22],\n",
              "       [22, 22, 22]])"
            ]
          },
          "metadata": {},
          "execution_count": 18
        }
      ]
    },
    {
      "cell_type": "markdown",
      "source": [
        "#### Reshape를 활용한 행렬 생성"
      ],
      "metadata": {
        "id": "P8pAViPI92-w"
      }
    },
    {
      "cell_type": "code",
      "source": [
        "X = np.arange(20).reshape((4,5))\n",
        "print(X)"
      ],
      "metadata": {
        "colab": {
          "base_uri": "https://localhost:8080/"
        },
        "id": "r-EAVuLP9V8n",
        "outputId": "08c73ddf-75f3-4fcd-8391-022a98c3c3c8"
      },
      "execution_count": null,
      "outputs": [
        {
          "output_type": "stream",
          "name": "stdout",
          "text": [
            "[[ 0  1  2  3  4]\n",
            " [ 5  6  7  8  9]\n",
            " [10 11 12 13 14]\n",
            " [15 16 17 18 19]]\n"
          ]
        }
      ]
    },
    {
      "cell_type": "markdown",
      "source": [
        "#### Dot Product (행렬간 곱셈)"
      ],
      "metadata": {
        "id": "jTyxsAiF9wVL"
      }
    },
    {
      "cell_type": "code",
      "source": [
        "a = np.array([[1,2], [3,4]])\n",
        "b = np.array([[5,6,7], [8,9,10]])\n",
        "ab = np.dot(a,b)"
      ],
      "metadata": {
        "id": "RichmWRP9Ztv"
      },
      "execution_count": null,
      "outputs": []
    },
    {
      "cell_type": "code",
      "source": [
        "print(a)\n",
        "print(b)\n",
        "print(ab)"
      ],
      "metadata": {
        "colab": {
          "base_uri": "https://localhost:8080/"
        },
        "id": "WwNEiv8n9qZU",
        "outputId": "f677f3d3-da27-4dd2-9add-273e34aa2eb0"
      },
      "execution_count": null,
      "outputs": [
        {
          "output_type": "stream",
          "name": "stdout",
          "text": [
            "[[1 2]\n",
            " [3 4]]\n",
            "[[ 5  6  7]\n",
            " [ 8  9 10]]\n",
            "[[21 24 27]\n",
            " [47 54 61]]\n"
          ]
        }
      ]
    },
    {
      "cell_type": "markdown",
      "source": [
        "#### Matrix를 활용한 행렬 생성"
      ],
      "metadata": {
        "id": "VPbco1BM97Lm"
      }
    },
    {
      "cell_type": "code",
      "source": [
        "a = np.matrix([[1,2], [3,4]])\n",
        "b = np.matrix([[5,6,7], [8,9,10]])\n",
        "ab = np.dot(a,b)\n",
        "ab2 = a*b\n",
        "\n",
        "print(ab)\n",
        "print(ab2)"
      ],
      "metadata": {
        "colab": {
          "base_uri": "https://localhost:8080/"
        },
        "id": "THS9W73Y9sh-",
        "outputId": "976a893c-a3e5-45bf-ea81-9ca1c08b3ab8"
      },
      "execution_count": null,
      "outputs": [
        {
          "output_type": "stream",
          "name": "stdout",
          "text": [
            "[[21 24 27]\n",
            " [47 54 61]]\n",
            "[[21 24 27]\n",
            " [47 54 61]]\n"
          ]
        }
      ]
    },
    {
      "cell_type": "markdown",
      "source": [
        "#### 대각행렬의 생성\n"
      ],
      "metadata": {
        "id": "vNRKESoM-Hzt"
      }
    },
    {
      "cell_type": "code",
      "source": [
        "x1 = np.arange(1,5)\n",
        "x1_diag = np.diag(x1)\n",
        "\n",
        "print(x1)\n",
        "print(x1_diag)"
      ],
      "metadata": {
        "colab": {
          "base_uri": "https://localhost:8080/"
        },
        "id": "-N5GA18z-HBk",
        "outputId": "12d2f039-c2d5-4e94-99b1-a0c231ac09da"
      },
      "execution_count": null,
      "outputs": [
        {
          "output_type": "stream",
          "name": "stdout",
          "text": [
            "[1 2 3 4]\n",
            "[[1 0 0 0]\n",
            " [0 2 0 0]\n",
            " [0 0 3 0]\n",
            " [0 0 0 4]]\n"
          ]
        }
      ]
    },
    {
      "cell_type": "markdown",
      "source": [
        "#### 항등행렬의 생성"
      ],
      "metadata": {
        "id": "atcKfPBS-WBS"
      }
    },
    {
      "cell_type": "code",
      "source": [
        "np.eye(5)"
      ],
      "metadata": {
        "colab": {
          "base_uri": "https://localhost:8080/"
        },
        "id": "hsROGEFf-ROd",
        "outputId": "e20e35e9-8994-4c8d-8165-fd2c046c94fd"
      },
      "execution_count": null,
      "outputs": [
        {
          "output_type": "execute_result",
          "data": {
            "text/plain": [
              "array([[1., 0., 0., 0., 0.],\n",
              "       [0., 1., 0., 0., 0.],\n",
              "       [0., 0., 1., 0., 0.],\n",
              "       [0., 0., 0., 1., 0.],\n",
              "       [0., 0., 0., 0., 1.]])"
            ]
          },
          "metadata": {},
          "execution_count": 27
        }
      ]
    },
    {
      "cell_type": "markdown",
      "source": [
        "#### 행렬간 결합 구성하기"
      ],
      "metadata": {
        "id": "HX1Yib_k-Y3f"
      }
    },
    {
      "cell_type": "code",
      "source": [
        "np.vstack([ab, ab2])"
      ],
      "metadata": {
        "colab": {
          "base_uri": "https://localhost:8080/"
        },
        "id": "WgeBBOdc-U-V",
        "outputId": "a499ce92-8792-4204-beec-f4c4c6f03895"
      },
      "execution_count": null,
      "outputs": [
        {
          "output_type": "execute_result",
          "data": {
            "text/plain": [
              "matrix([[21, 24, 27],\n",
              "        [47, 54, 61],\n",
              "        [21, 24, 27],\n",
              "        [47, 54, 61]])"
            ]
          },
          "metadata": {},
          "execution_count": 30
        }
      ]
    },
    {
      "cell_type": "markdown",
      "source": [
        "#### 행렬 전치"
      ],
      "metadata": {
        "id": "FtV2GXJJ-k56"
      }
    },
    {
      "cell_type": "code",
      "source": [
        "a = np.array([[1,2], [3,4]])\n",
        "b = np.array([[5,6,7], [8,9,10]])\n",
        "\n",
        "abt1 = np.dot(a,b).T\n",
        "abt2 = np.dot(b.T, a.T)\n",
        "print (abt1)\n",
        "print(abt2)"
      ],
      "metadata": {
        "colab": {
          "base_uri": "https://localhost:8080/"
        },
        "id": "x84JpGXC-hPc",
        "outputId": "dea16819-9e38-4b93-b317-8bf512bdf1d4"
      },
      "execution_count": null,
      "outputs": [
        {
          "output_type": "stream",
          "name": "stdout",
          "text": [
            "[[21 47]\n",
            " [24 54]\n",
            " [27 61]]\n",
            "[[21 47]\n",
            " [24 54]\n",
            " [27 61]]\n"
          ]
        }
      ]
    },
    {
      "cell_type": "markdown",
      "source": [
        "#### 역행렬"
      ],
      "metadata": {
        "id": "T3P8ynVN-5SG"
      }
    },
    {
      "cell_type": "code",
      "source": [
        "a_inv = np.linalg.inv(a)\n",
        "print(a_inv)"
      ],
      "metadata": {
        "colab": {
          "base_uri": "https://localhost:8080/"
        },
        "id": "-K5fO3qy-17I",
        "outputId": "ab6e1391-a0b0-4af5-be1e-49af5848bb9c"
      },
      "execution_count": null,
      "outputs": [
        {
          "output_type": "stream",
          "name": "stdout",
          "text": [
            "[[-2.   1. ]\n",
            " [ 1.5 -0.5]]\n"
          ]
        }
      ]
    },
    {
      "cell_type": "markdown",
      "source": [
        "#### Exercise\n",
        "\n",
        "- Exercise 3.6. in MATHMATICS FOR MACHINE LEARNING (M. P. Deisenroth et al. )"
      ],
      "metadata": {
        "id": "zj2I33wWb-G9"
      }
    },
    {
      "cell_type": "code",
      "source": [
        "B = np.array([[0,1,-3],[-1,-3,4],[2,1,1],[0,-1,2],[2,2,1]])\n",
        "x = np.array([-1,-9,-1,4,1]).T"
      ],
      "metadata": {
        "id": "k11vbCRo_ACq"
      },
      "execution_count": null,
      "outputs": []
    },
    {
      "cell_type": "code",
      "source": [
        "temp1 = np.dot(B.T, B)\n",
        "temp2 = np.linalg.inv(temp1)\n",
        "lambda_ = np.dot(np.dot(temp2, B.T), x)\n",
        "print(lambda_)"
      ],
      "metadata": {
        "colab": {
          "base_uri": "https://localhost:8080/"
        },
        "id": "Xe1B1LXIbDvF",
        "outputId": "1627439f-10ba-447f-9e4e-de14c2f9e7d8"
      },
      "execution_count": null,
      "outputs": [
        {
          "output_type": "stream",
          "name": "stdout",
          "text": [
            "[-3.  4.  1.]\n"
          ]
        }
      ]
    },
    {
      "cell_type": "code",
      "source": [
        "result_a = np.dot(B, lambda_)\n",
        "result_a"
      ],
      "metadata": {
        "colab": {
          "base_uri": "https://localhost:8080/"
        },
        "id": "BVsE8HblbJX3",
        "outputId": "833bc7f1-4359-4289-8634-5eb6a1bff9f4"
      },
      "execution_count": null,
      "outputs": [
        {
          "output_type": "execute_result",
          "data": {
            "text/plain": [
              "array([ 1., -5., -1., -2.,  3.])"
            ]
          },
          "metadata": {},
          "execution_count": 8
        }
      ]
    },
    {
      "cell_type": "code",
      "source": [
        "square_list = []\n",
        "for i in range(len(x)):\n",
        "  square_list.append((x[i]-result_a[i])**2)\n",
        "temp_result_b = sum(square_list)"
      ],
      "metadata": {
        "id": "OpasM6Cac8LK"
      },
      "execution_count": null,
      "outputs": []
    },
    {
      "cell_type": "code",
      "source": [
        "import math\n",
        "result_b = math.sqrt(temp_result_b)\n",
        "result_b"
      ],
      "metadata": {
        "colab": {
          "base_uri": "https://localhost:8080/"
        },
        "id": "N_KfoJaFeRwN",
        "outputId": "e2d854d2-238f-4d7b-fce5-7552b7d68964"
      },
      "execution_count": null,
      "outputs": [
        {
          "output_type": "execute_result",
          "data": {
            "text/plain": [
              "7.745966692414833"
            ]
          },
          "metadata": {},
          "execution_count": 17
        }
      ]
    }
  ]
}